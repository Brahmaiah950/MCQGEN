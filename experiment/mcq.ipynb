{
 "cells": [
  {
   "cell_type": "code",
   "execution_count": 1,
   "id": "086bae14",
   "metadata": {},
   "outputs": [],
   "source": [
    "import os\n",
    "import json\n",
    "import tracemalloc\n",
    "import pandas as pd"
   ]
  },
  {
   "cell_type": "code",
   "execution_count": 2,
   "id": "ee3b5af5",
   "metadata": {},
   "outputs": [],
   "source": [
    "from langchain.llms import OpenAI\n",
    "from langchain.prompts import PromptTemplate\n",
    "from langchain.chains import LLMChain , SequentialChain\n",
    "from langchain.callbacks import get_openai_callback\n",
    "import PyPDF2"
   ]
  },
  {
   "cell_type": "code",
   "execution_count": 3,
   "id": "129198ea",
   "metadata": {},
   "outputs": [
    {
     "data": {
      "text/plain": [
       "True"
      ]
     },
     "execution_count": 3,
     "metadata": {},
     "output_type": "execute_result"
    }
   ],
   "source": [
    "from dotenv import load_dotenv\n",
    "load_dotenv()"
   ]
  },
  {
   "cell_type": "code",
   "execution_count": 4,
   "id": "081c0e12",
   "metadata": {},
   "outputs": [],
   "source": [
    "key=os.getenv(\"OPENAI_API_KEY\")"
   ]
  },
  {
   "cell_type": "code",
   "execution_count": 5,
   "id": "986b2d29",
   "metadata": {},
   "outputs": [
    {
     "name": "stdout",
     "output_type": "stream",
     "text": [
      "Key loaded successfully\n"
     ]
    }
   ],
   "source": [
    "if key:\n",
    "    print(\"Key loaded successfully\")\n",
    "else:\n",
    "    print(\"Key not found\")"
   ]
  },
  {
   "cell_type": "code",
   "execution_count": 6,
   "id": "a8aaf21a",
   "metadata": {},
   "outputs": [
    {
     "name": "stderr",
     "output_type": "stream",
     "text": [
      "C:\\Users\\HP\\AppData\\Local\\Temp\\ipykernel_6544\\3923787719.py:2: LangChainDeprecationWarning: The class `ChatOpenAI` was deprecated in LangChain 0.0.10 and will be removed in 1.0. An updated version of the class exists in the :class:`~langchain-openai package and should be used instead. To use it run `pip install -U :class:`~langchain-openai` and import as `from :class:`~langchain_openai import ChatOpenAI``.\n",
      "  llm=ChatOpenAI(openai_api_key=key,model_name='gpt-3.5-turbo', temperature=0.5)\n"
     ]
    }
   ],
   "source": [
    "from langchain.chat_models import ChatOpenAI\n",
    "llm=ChatOpenAI(openai_api_key=key,model_name='gpt-3.5-turbo', temperature=0.5)"
   ]
  },
  {
   "cell_type": "code",
   "execution_count": 8,
   "id": "613f9d5a",
   "metadata": {},
   "outputs": [],
   "source": [
    "RESPONSE_JSON={\n",
    "    '1':{\n",
    "        'mcq':'multiple choice question',\n",
    "        'options':{\n",
    "            'a':'choice here',\n",
    "            'b':'choice here',\n",
    "            'c':'choice here',\n",
    "            'd':'choice here'\n",
    "        },\n",
    "        'correct option':'correct answer'\n",
    "    },\n",
    "    '2':{\n",
    "        'mcq':'multiple choice question',\n",
    "        'options':{\n",
    "            'a':'choice here',\n",
    "            'b':'choice here',\n",
    "            'c':'choice here',\n",
    "            'd':'choice here'\n",
    "        },\n",
    "        'correct option':'correct answer'\n",
    "    },\n",
    "    '3':{\n",
    "        'mcq':'multiple choice question',\n",
    "        'options':{\n",
    "            'a':'choice here',\n",
    "            'b':'choice here',\n",
    "            'c':'choice here',\n",
    "            'd':'choice here'\n",
    "        },\n",
    "        'correct option':'correct answer'\n",
    "    }\n",
    "}\n",
    " "
   ]
  },
  {
   "cell_type": "code",
   "execution_count": 9,
   "id": "ce5ca0ce",
   "metadata": {},
   "outputs": [],
   "source": [
    "TEMPLATE='''\n",
    "        Text:{text}\n",
    "        you are an expert in MCQ maker.Given the above text,it is your job to create a quiz of {number}/\n",
    "        Multiple choice question for {subject} in tone {tone}.\n",
    "        Make sure the questions are not repeated and check all questions to be conforming the text as well.\n",
    "        Make sure to formate your response like RESPONSE_JSON and use it as guide.\n",
    "        Ensure to make {number} of MCQs\n",
    "        ### RESPONSE_JSON\n",
    "        {response_json}\n",
    "\n",
    "'''"
   ]
  },
  {
   "cell_type": "code",
   "execution_count": 10,
   "id": "d8e60fdc",
   "metadata": {},
   "outputs": [],
   "source": [
    "quiz_generation_prompt=PromptTemplate(\n",
    "    input_variables=['text','number','subject','tone','response_json'],\n",
    "    template=TEMPLATE\n",
    ")"
   ]
  },
  {
   "cell_type": "code",
   "execution_count": 14,
   "id": "a1d2ac23",
   "metadata": {},
   "outputs": [
    {
     "name": "stderr",
     "output_type": "stream",
     "text": [
      "C:\\Users\\HP\\AppData\\Local\\Temp\\ipykernel_6544\\2669661367.py:1: LangChainDeprecationWarning: The class `LLMChain` was deprecated in LangChain 0.1.17 and will be removed in 1.0. Use :meth:`~RunnableSequence, e.g., `prompt | llm`` instead.\n",
      "  quiz_chain=LLMChain(llm=llm, prompt=quiz_generation_prompt, output_key=\"quiz\", verbose=True)\n"
     ]
    }
   ],
   "source": [
    "quiz_chain=LLMChain(llm=llm, prompt=quiz_generation_prompt, output_key=\"quiz\", verbose=True)"
   ]
  },
  {
   "cell_type": "code",
   "execution_count": 15,
   "id": "932c720e",
   "metadata": {},
   "outputs": [],
   "source": [
    "TEMPLATE2='''\n",
    "            you are an expert english grammarian and writer.\n",
    "            givean a multiple choice quiz for {subject} students.\n",
    "            you need to evaluate the complexity of the question and given a complete analysis of the quiz. only use at max  word complexity,\n",
    "            Update the quiz questions which needs to be changeed and chance the tone such that it prefectly fits students ability.\n",
    "            Quiz_MCQs\n",
    "            {quiz}\n",
    "            check from an expert english writer of the above quiz\n",
    "            '''"
   ]
  },
  {
   "cell_type": "code",
   "execution_count": 17,
   "id": "0c1a3c8b",
   "metadata": {},
   "outputs": [],
   "source": [
    "quiz_evaluation_prompt=PromptTemplate(\n",
    "    input_variables=['subject','quiz'],\n",
    "    template=TEMPLATE2\n",
    ")"
   ]
  },
  {
   "cell_type": "code",
   "execution_count": 18,
   "id": "2b99f413",
   "metadata": {},
   "outputs": [],
   "source": [
    "review_chain=LLMChain(llm=llm, prompt=quiz_evaluation_prompt, output_key='review',verbose=True)"
   ]
  },
  {
   "cell_type": "code",
   "execution_count": 19,
   "id": "b0e333ba",
   "metadata": {},
   "outputs": [],
   "source": [
    "generats_evalution_chain=SequentialChain(\n",
    "    chains=[quiz_chain,review_chain],input_variables=['text','number','subject','tone','response_json'],\n",
    "    output_variables=['quiz','review'],verbose=True\n",
    ")"
   ]
  },
  {
   "cell_type": "code",
   "execution_count": 20,
   "id": "7dddad61",
   "metadata": {},
   "outputs": [
    {
     "data": {
      "text/plain": [
       "'C:\\\\Users\\\\HP\\\\OneDrive\\\\Desktop\\\\MCQGEN\\\\data.txt'"
      ]
     },
     "execution_count": 20,
     "metadata": {},
     "output_type": "execute_result"
    }
   ],
   "source": [
    "file_path=r\"C:\\Users\\HP\\OneDrive\\Desktop\\MCQGEN\\data.txt\"\n",
    "file_path"
   ]
  },
  {
   "cell_type": "code",
   "execution_count": 22,
   "id": "4999950c",
   "metadata": {},
   "outputs": [],
   "source": [
    "with open(file_path, 'r', encoding='utf-8') as file:\n",
    "    Text=file.read()\n"
   ]
  },
  {
   "cell_type": "code",
   "execution_count": null,
   "id": "06bf6417",
   "metadata": {},
   "outputs": [],
   "source": [
    "print(Text)"
   ]
  },
  {
   "cell_type": "code",
   "execution_count": 25,
   "id": "9e789920",
   "metadata": {},
   "outputs": [
    {
     "data": {
      "text/plain": [
       "'{\"1\": {\"mcq\": \"multiple choice question\", \"options\": {\"a\": \"choice here\", \"b\": \"choice here\", \"c\": \"choice here\", \"d\": \"choice here\"}, \"correct option\": \"correct answer\"}, \"2\": {\"mcq\": \"multiple choice question\", \"options\": {\"a\": \"choice here\", \"b\": \"choice here\", \"c\": \"choice here\", \"d\": \"choice here\"}, \"correct option\": \"correct answer\"}, \"3\": {\"mcq\": \"multiple choice question\", \"options\": {\"a\": \"choice here\", \"b\": \"choice here\", \"c\": \"choice here\", \"d\": \"choice here\"}, \"correct option\": \"correct answer\"}}'"
      ]
     },
     "execution_count": 25,
     "metadata": {},
     "output_type": "execute_result"
    }
   ],
   "source": [
    "json.dumps(RESPONSE_JSON)"
   ]
  },
  {
   "cell_type": "code",
   "execution_count": 70,
   "id": "8c1ee5c8",
   "metadata": {},
   "outputs": [
    {
     "name": "stdout",
     "output_type": "stream",
     "text": [
      "\n",
      "\n",
      "\u001b[1m> Entering new SequentialChain chain...\u001b[0m\n",
      "\n",
      "\n",
      "\u001b[1m> Entering new LLMChain chain...\u001b[0m\n",
      "Prompt after formatting:\n",
      "\u001b[32;1m\u001b[1;3m\n",
      "        Text:Machine learning (ML) is a branch of artificial intelligence (AI) focused on enabling computers and machines to imitate the way that humans learn, to perform tasks autonomously, and to improve their performance and accuracy through experience and exposure to more data.\n",
      "\n",
      "UC Berkeley breaks out the learning system of a machine learning algorithm into three main parts.\n",
      "\n",
      "A Decision Process: In general, machine learning algorithms are used to make a prediction or classification. Based on some input data, which can be labeled or unlabeled, your algorithm will produce an estimate about a pattern in the data.\n",
      "\n",
      "An Error Function: An error function evaluates the prediction of the model. If there are known examples, an error function can make a comparison to assess the accuracy of the model.\n",
      "\n",
      "A Model Optimization Process: If the model can fit better to the data points in the training set, then weights are adjusted to reduce the discrepancy between the known example and the model estimate. The algorithm will repeat this iterative “evaluate and optimize” process, updating weights autonomously until a threshold of accuracy has been met.\n",
      "Industry newsletter\n",
      "\n",
      "The latest AI trends, brought to you by experts\n",
      "Get curated insights on the most important—and intriguing—AI news. Subscribe to our weekly Think newsletter. See the IBM Privacy Statement.\n",
      "\n",
      "Business email\n",
      "johndoe@yourdomain.com\n",
      "Subscribe\n",
      "\n",
      "Machine learning versus deep learning versus neural networks\n",
      "Since deep learning and machine learning tend to be used interchangeably, it’s worth noting the nuances between the two. Machine learning, deep learning, and neural networks are all sub-fields of artificial intelligence. However, neural networks is actually a sub-field of machine learning, and deep learning is a sub-field of neural networks.\n",
      "\n",
      "The way in which deep learning and machine learning differ is in how each algorithm learns. \"Deep\" machine learning can use labeled datasets, also known as supervised learning, to inform its algorithm, but it doesn’t necessarily require a labeled dataset. The deep learning process can ingest unstructured data in its raw form (e.g., text or images), and it can automatically determine the set of features which distinguish different categories of data from one another. This eliminates some of the human intervention required and enables the use of large amounts of data. You can think of deep learning as \"scalable machine learning\" as Lex Fridman notes in this MIT lecture1.\n",
      "\n",
      "Classical, or \"non-deep,\" machine learning is more dependent on human intervention to learn. Human experts determine the set of features to understand the differences between data inputs, usually requiring more structured data to learn.\n",
      "\n",
      "Neural networks, or artificial neural networks (ANNs), are comprised of node layers, containing an input layer, one or more hidden layers, and an output layer. Each node, or artificial neuron, connects to another and has an associated weight and threshold. If the output of any individual node is above the specified threshold value, that node is activated, sending data to the next layer of the network. Otherwise, no data is passed along to the next layer of the network by that node. The “deep” in deep learning is just referring to the number of layers in a neural network. A neural network that consists of more than three layers, which would be inclusive of the input and the output can be considered a deep learning algorithm or a deep neural network. A neural network that only has three layers is just a basic neural network.\n",
      "\n",
      "Deep learning and neural networks are credited with accelerating progress in areas such as computer vision, natural language processing (NLP), and speech recognition.\n",
      "\n",
      "See the blog post “AI vs. Machine Learning vs. Deep Learning vs. Neural Networks: What’s the Difference?” for a closer look at how the different concepts relate.\n",
      "\n",
      "Mixture of Experts | 11 July, episode 63\n",
      "\n",
      "Perplexity’s Comet browser, Cloudflare blocks AI scrapers and Wimbledon Match Chat\n",
      "Decoding AI: Weekly News Roundup\n",
      "Join our world-class panel of engineers, researchers, product leaders and more as they cut through the AI noise to bring you the latest in AI news and insights.\n",
      "\n",
      "Watch the latest podcast episodes \n",
      "Machine learning methods\n",
      "Machine learning models fall into three primary categories.\n",
      "\n",
      "Supervised learning\n",
      "Supervised learning, also known as supervised machine learning, is defined by its use of labeled datasets to train algorithms to classify data or predict outcomes accurately. As input data is fed into the model, the model adjusts its weights until it has been fitted appropriately. This occurs as part of the cross validation process to ensure that the model avoids overfitting or underfitting. Supervised learning helps organizations solve a variety of real-world problems at scale, such as classifying spam in a separate folder from your inbox. Some methods used in supervised learning include neural networks, Naïve Bayes, linear regression, logistic regression, random forest, and support vector machine (SVM).\n",
      "\n",
      "Unsupervised learning\n",
      "Unsupervised learning, also known as unsupervised machine learning, uses machine learning algorithms to analyze and cluster unlabeled datasets (subsets called clusters). These algorithms discover hidden patterns or data groupings without the need for human intervention.\n",
      "\n",
      "Unsupervised learning’s ability to discover similarities and differences in information make it ideal for exploratory data analysis, cross-selling strategies, customer segmentation, and image and pattern recognition. It’s also used to reduce the number of features in a model through the process of dimensionality reduction. Principal component analysis (PCA) and singular value decomposition (SVD) are two common approaches for this. Other algorithms used in unsupervised learning include neural networks, k-means clustering, and probabilistic clustering methods.\n",
      "\n",
      "Semi-supervised learning \n",
      "Semi-supervised learning offers a happy medium between supervised and unsupervised learning. During training, it uses a smaller labeled data set to guide classification and feature extraction from a larger, unlabeled data set. Semi-supervised learning can solve the problem of not having enough labeled data for a supervised learning algorithm. It also helps if it’s too costly to label enough data.\n",
      "\n",
      "For a deep dive into the differences between these approaches, check out \"Supervised vs. Unsupervised Learning: What's the Difference?\"\n",
      "\n",
      "Reinforcement learning\n",
      "Reinforcement learning is a machine learning model that is similar to supervised learning, but the algorithm isn’t trained using sample data. This model learns as it goes by using trial and error. A sequence of successful outcomes will be reinforced to develop the best recommendation or policy for a given problem.\n",
      "\n",
      "The IBM Watson® system that won the Jeopardy! challenge in 2011 is a good example. The system used reinforcement learning to learn when to attempt an answer (or question, as it were), which square to select on the board, and how much to wager, especially on daily doubles.\n",
      "\n",
      "Common machine learning algorithms\n",
      "A number of machine learning algorithms are commonly used. These include:\n",
      "\n",
      "Neural networks\n",
      "Linear regression\n",
      "Logistic regression\n",
      "Clustering\n",
      "Decision trees\n",
      "Random forests\n",
      "Neural networks\n",
      "Neural networks simulate the way the human brain works, with a huge number of linked processing nodes. Neural networks are good at recognizing patterns and play an important role in applications including natural language translation, image recognition, speech recognition, and image creation.\n",
      "\n",
      "Linear regression\n",
      "This algorithm is used to predict numerical values, based on a linear relationship between different values. For example, the technique could be used to predict house prices based on historical data for the area.\n",
      "\n",
      "Logistic regression\n",
      "This supervised learning algorithm makes predictions for categorical response variables, such as “yes/no” answers to questions. It can be used for applications such as classifying spam and quality control on a production line.\n",
      "\n",
      "Clustering\n",
      "Using unsupervised learning, clustering algorithms can identify patterns in data so that it can be grouped. Computers can help data scientists by identifying differences between data items that humans have overlooked.\n",
      "\n",
      "Decision trees\n",
      "Decision trees can be used for both predicting numerical values (regression) and classifying data into categories. Decision trees use a branching sequence of linked decisions that can be represented with a tree diagram. One of the advantages of decision trees is that they are easy to validate and audit, unlike the black box of the neural network.\n",
      "\n",
      "Random forests\n",
      "In a random forest, the machine learning algorithm predicts a value or category by combining the results from a number of decision trees.\n",
      "\n",
      "Advantages and disadvantages of machine learning algorithms \n",
      "Depending on your budget, need for speed and precision required, each algorithm type supervised, unsupervised, semi-supervised, or reinforcement has its own advantages and disadvantages. \n",
      "\n",
      "For example, decision tree algorithms are used for both predicting numerical values (regression problems) and classifying data into categories. Decision trees use a branching sequence of linked decisions that may be represented with a tree diagram. A prime advantage of decision trees is that they are easier to validate and audit than a neural network. The bad news is that they can be more unstable than other decision predictors.\n",
      "\n",
      "Overall, there are many advantages to machine learning that businesses can leverage for new efficiencies. These include machine learning identifying patterns and trends in massive volumes of data that humans might not spot at all. And this analysis requires little human intervention: just feed in the dataset of interest and let the machine learning system assemble and refine its own algorithms, which will continually improve with more data input over time. Customers and users can enjoy a more personalized experience as the model learns more with every experience with that person.\n",
      "\n",
      "On the downside, machine learning requires large training datasets that are accurate and unbiased. GIGO is the operative factor: garbage in / garbage out. Gathering sufficient data and having a system robust enough to run it might also be a drain on resources.\n",
      "\n",
      "Machine learning can also be prone to error, depending on the input. With too small a sample, the system could produce a perfectly logical algorithm that is completely wrong or misleading. To avoid wasting budget or displeasing customers, organizations should act on the answers only when there is high confidence in the output.\n",
      "\n",
      "Real-world machine learning use cases\n",
      "Here are just a few examples of machine learning you might encounter every day:\n",
      "\n",
      "Generative AI: Generative AI, or gen AI, is machine learning that can create original content—text, images, video, software code—in response to a user’s prompt or request. Gen AI relies on deep learning models that identify and encode the patterns and relationships in huge amounts of data, and then use that information to understand users’ requests and create new content. ChatGPT and Claude.ai are examples of generative AI apps.\n",
      "\n",
      "AI agents and agentic AI: An AI agent is an autonomous AI program—it can perform tasks and accomplish goals on behalf of a user or another system without human intervention, by designing its own workflow and using available tools (other applications or services). Agentic AI is a system of multiple AI agents, the efforts of which are coordinated, or orchestrated, to accomplish a more complex task or a greater goal than any single agent in the system could accomplish.\n",
      "\n",
      "Explore our 2025 guide to AI agents \n",
      "Speech recognition: Also known as automatic speech recognition (ASR), computer speech recognition, or speech-to-text, speech recognition uses natural language processing (NLP) to translate human speech into a written format. Many mobile devices incorporate speech recognition into their systems to conduct voice search e.g. Siri or improve accessibility for texting.\n",
      "\n",
      "Customer service: Online chatbots are replacing human agents along the customer journey, changing the way we think about customer engagement across websites and social media platforms. Chatbots answer frequently asked questions (FAQs) about topics such as shipping, or provide personalized advice, cross-selling products or suggesting sizes for users. Examples include virtual agents on e-commerce sites; messaging bots, using Slack and Facebook Messenger; and tasks usually done by virtual assistants and voice assistants.\n",
      "\n",
      "Computer vision: This AI technology enables computers to derive meaningful information from digital images, videos, and other visual inputs, and then take the appropriate action. Powered by convolutional neural networks, computer vision has applications in photo tagging on social media, radiology imaging in healthcare, and self-driving cars in the automotive industry.\n",
      "\n",
      "Recommendation engines: Using past consumption behavior data, AI algorithms can help to discover data trends that can be used to develop more effective cross-selling strategies. Recommendation engines are used by online retailers to make relevant product recommendations to customers during the checkout process.\n",
      "\n",
      "Robotic process automation (RPA): Also known as software robotics, RPA uses intelligent automation technologies to perform repetitive manual tasks.\n",
      "\n",
      "Automated stock trading: Designed to optimize stock portfolios, AI-driven high-frequency trading platforms make thousands or even millions of trades per day without human intervention.\n",
      "\n",
      "Fraud detection: Banks and other financial institutions can use machine learning to spot suspicious transactions. Supervised learning can train a model using information about known fraudulent transactions. Anomaly detection can identify transactions that look atypical and deserve further investigation.\n",
      "\n",
      "Challenges of machine learning\n",
      "As machine learning technology has developed, it has certainly made our lives easier. However, implementing machine learning in businesses has also raised a number of ethical concerns about AI technologies. Some of these include:\n",
      "\n",
      "Technological singularity\n",
      "While this topic garners a lot of public attention, many researchers are not concerned with the idea of AI surpassing human intelligence in the near future. Technological singularity is also referred to as strong AI or superintelligence. Philosopher Nick Bostrum defines superintelligence as “any intellect that vastly outperforms the best human brains in practically every field, including scientific creativity, general wisdom, and social skills.”\n",
      "\n",
      "Despite the fact that superintelligence is not imminent in society, the idea of it raises some interesting questions as we consider the use of autonomous systems, like self-driving cars. It’s unrealistic to think that a driverless car would never have an accident, but who is responsible and liable under those circumstances? Should we still develop autonomous vehicles, or do we limit this technology to semi-autonomous vehicles which help people drive safely? The jury is still out on this, but these are the types of ethical debates that are occurring as new, innovative AI technology develops.\n",
      "\n",
      "AI impact on jobs\n",
      "While a lot of public perception of artificial intelligence centers around job losses, this concern should probably be reframed. With every disruptive, new technology, we see that the market demand for specific job roles shifts. For example, when we look at the automotive industry, many manufacturers, like GM, are shifting to focus on electric vehicle production to align with green initiatives. The energy industry isn’t going away, but the source of energy is shifting from a fuel economy to an electric one.\n",
      "\n",
      "In a similar way, artificial intelligence will shift the demand for jobs to other areas. There will need to be individuals to help manage AI systems. There will still need to be people to address more complex problems within the industries that are most likely to be affected by job demand shifts, such as customer service. The biggest challenge with artificial intelligence and its effect on the job market will be helping people to transition to new roles that are in demand.\n",
      "\n",
      "Privacy\n",
      "Privacy tends to be discussed in the context of data privacy, data protection, and data security. These concerns have allowed policymakers to make more strides in recent years. For example, in 2016, GDPR legislation was created to protect the personal data of people in the European Union and European Economic Area, giving individuals more control of their data. In the United States, individual states are developing policies, such as the California Consumer Privacy Act (CCPA), which was introduced in 2018 and requires businesses to inform consumers about the collection of their data. Legislation such as this has forced companies to rethink how they store and use personally identifiable information (PII). As a result, investments in security have become an increasing priority for businesses as they seek to eliminate any vulnerabilities and opportunities for surveillance, hacking, and cyberattacks.\n",
      "\n",
      "Bias and discrimination\n",
      "Instances of bias and discrimination across a number of machine learning systems have raised many ethical questions regarding the use of artificial intelligence. How can we safeguard against bias and discrimination when the training data itself may be generated by biased human processes? While companies typically have good intentions for their automation efforts, Reuters2 highlights some of the unforeseen consequences of incorporating AI into hiring practices. In their effort to automate and simplify a process, Amazon unintentionally discriminated against job candidates by gender for technical roles, and the company ultimately had to scrap the project. Harvard Business Review3 has raised other pointed questions about the use of AI in hiring practices, such as what data you should be able to use when evaluating a candidate for a role.\n",
      "\n",
      "Bias and discrimination aren’t limited to the human resources function either; they can be found in a number of applications from facial recognition software to social media algorithms. As businesses become more aware of the risks with AI, they’ve also become more active in this discussion around AI ethics and values.  \n",
      "\n",
      "Accountability\n",
      "Since there isn’t significant legislation to regulate AI practices, there is no real enforcement mechanism to ensure that ethical AI is practiced. The current incentives for companies to be ethical are the negative repercussions of an unethical AI system on the bottom line. To fill the gap, ethical frameworks have emerged as part of a collaboration between ethicists and researchers to govern the construction and distribution of AI models within society. However, at the moment, these only serve to guide. Some research4 shows that the combination of distributed responsibility and a lack of foresight into potential consequences aren’t conducive to preventing harm to society.\n",
      "\n",
      "How to choose the right AI platform for machine learning \n",
      "Selecting a platform can be a challenging process, as the wrong system can drive up costs, or limit the use of other valuable tools or technologies. When reviewing multiple vendors to select an AI platform, there is often a tendency to think that more features = a better system. Maybe so, but reviewers should start by thinking through what the AI platform will be doing for their organization. What machine learning capabilities need to be delivered and what features are important to accomplish them? One missing feature might doom the usefulness of an entire system. Here are some features to consider.\n",
      "\n",
      "MLOps capabilities. Does the system have:\n",
      "\n",
      "a unified interface for ease of management?\n",
      "automated machine learning tools for faster model creation with low-code and no-code functionality?\n",
      "decision optimization to streamline the selection and deployment of optimization models?\n",
      "visual modeling to combine visual data science with open-source libraries and notebook-based interfaces on a unified data and AI studio?\n",
      "automated development for beginners to get started quickly and more advanced data scientists to experiment?\n",
      "synthetic data generator as an alternative or supplement to real-world data when real-world data is not readily available?\n",
      "Generative AI capabilities. Does the system have:\n",
      "\n",
      "a content generator that can generate text, images and other content based on the data it was trained on?\n",
      "automated classification to read and classify written input, such as evaluating and sorting customer complaints or reviewing customer feedback sentiment?\n",
      "a summary generator that can transform dense text into a high-quality summary, capture key points from financial reports, and generate meeting transcriptions?\n",
      "a data extraction capability to sort through complex details and quickly pull the necessary information from large documents?\n",
      "        you are an expert in MCQ maker.Given the above text,it is your job to create a quiz of 5/\n",
      "        Multiple choice question for machine learnig in tone simple.\n",
      "        Make sure the questions are not repeated and check all questions to be conforming the text as well.\n",
      "        Make sure to formate your response like RESPONSE_JSON and use it as guide.\n",
      "        Ensure to make 5 of MCQs\n",
      "        ### RESPONSE_JSON\n",
      "        {'1': {'mcq': 'multiple choice question', 'options': {'a': 'choice here', 'b': 'choice here', 'c': 'choice here', 'd': 'choice here'}, 'correct option': 'correct answer'}, '2': {'mcq': 'multiple choice question', 'options': {'a': 'choice here', 'b': 'choice here', 'c': 'choice here', 'd': 'choice here'}, 'correct option': 'correct answer'}, '3': {'mcq': 'multiple choice question', 'options': {'a': 'choice here', 'b': 'choice here', 'c': 'choice here', 'd': 'choice here'}, 'correct option': 'correct answer'}}\n",
      "\n",
      "\u001b[0m\n",
      "\n",
      "\u001b[1m> Finished chain.\u001b[0m\n",
      "\n",
      "\n",
      "\u001b[1m> Entering new LLMChain chain...\u001b[0m\n",
      "Prompt after formatting:\n",
      "\u001b[32;1m\u001b[1;3m\n",
      "            you are an expert english grammarian and writer.\n",
      "            givean a multiple choice quiz for machine learnig students.\n",
      "            you need to evaluate the complexity of the question and given a complete analysis of the quiz. only use at max  word complexity,\n",
      "            Update the quiz questions which needs to be changeed and chance the tone such that it prefectly fits students ability.\n",
      "            Quiz_MCQs\n",
      "            {\n",
      "    '1': {\n",
      "        'mcq': 'What is the main focus of machine learning?',\n",
      "        'options': {\n",
      "            'a': 'Imitating human learning',\n",
      "            'b': 'Performing tasks autonomously',\n",
      "            'c': 'Improving performance through data exposure',\n",
      "            'd': 'All of the above'\n",
      "        },\n",
      "        'correct option': 'd'\n",
      "    },\n",
      "    '2': {\n",
      "        'mcq': 'Which type of learning uses labeled datasets?',\n",
      "        'options': {\n",
      "            'a': 'Supervised learning',\n",
      "            'b': 'Unsupervised learning',\n",
      "            'c': 'Semi-supervised learning',\n",
      "            'd': 'Reinforcement learning'\n",
      "        },\n",
      "        'correct option': 'a'\n",
      "    },\n",
      "    '3': {\n",
      "        'mcq': 'What is the main difference between deep learning and machine learning?',\n",
      "        'options': {\n",
      "            'a': 'Deep learning requires labeled datasets',\n",
      "            'b': 'Machine learning is a sub-field of deep learning',\n",
      "            'c': 'Deep learning can automatically determine features',\n",
      "            'd': 'Machine learning is more dependent on human intervention'\n",
      "        },\n",
      "        'correct option': 'c'\n",
      "    },\n",
      "    '4': {\n",
      "        'mcq': 'Which algorithm is used for predicting numerical values based on a linear relationship?',\n",
      "        'options': {\n",
      "            'a': 'Neural networks',\n",
      "            'b': 'Logistic regression',\n",
      "            'c': 'Linear regression',\n",
      "            'd': 'Decision trees'\n",
      "        },\n",
      "        'correct option': 'c'\n",
      "    },\n",
      "    '5': {\n",
      "        'mcq': 'What is the main challenge related to implementing machine learning in businesses?',\n",
      "        'options': {\n",
      "            'a': 'Technological singularity',\n",
      "            'b': 'AI impact on jobs',\n",
      "            'c': 'Privacy concerns',\n",
      "            'd': 'Bias and discrimination'\n",
      "        },\n",
      "        'correct option': 'c'\n",
      "    }\n",
      "}\n",
      "            check from an expert english writer of the above quiz\n",
      "            \u001b[0m\n",
      "\n",
      "\u001b[1m> Finished chain.\u001b[0m\n",
      "\n",
      "\u001b[1m> Finished chain.\u001b[0m\n"
     ]
    }
   ],
   "source": [
    "with get_openai_callback() as cb:\n",
    "    response=generats_evalution_chain(\n",
    "        {\n",
    "            'text':Text,\n",
    "            'number':5,\n",
    "            'subject':'machine learnig',\n",
    "            'tone':'simple',\n",
    "            'response_json':RESPONSE_JSON\n",
    "        }\n",
    "    )"
   ]
  },
  {
   "cell_type": "code",
   "execution_count": 71,
   "id": "16a1e7c5",
   "metadata": {},
   "outputs": [
    {
     "name": "stdout",
     "output_type": "stream",
     "text": [
      "total token:5171\n",
      "prompt token:4598\n",
      "completion token:573\n",
      "total cost:0.008043\n"
     ]
    }
   ],
   "source": [
    "print(f'total token:{cb.total_tokens}')\n",
    "print(f'prompt token:{cb.prompt_tokens}')\n",
    "print(f'completion token:{cb.completion_tokens}')\n",
    "print(f'total cost:{cb.total_cost}')"
   ]
  },
  {
   "cell_type": "code",
   "execution_count": 72,
   "id": "21a386dc",
   "metadata": {},
   "outputs": [
    {
     "name": "stdout",
     "output_type": "stream",
     "text": [
      "{\n",
      "    '1': {\n",
      "        'mcq': 'What is the main focus of machine learning?',\n",
      "        'options': {\n",
      "            'a': 'Imitating human learning',\n",
      "            'b': 'Performing tasks autonomously',\n",
      "            'c': 'Improving performance through data exposure',\n",
      "            'd': 'All of the above'\n",
      "        },\n",
      "        'correct option': 'd'\n",
      "    },\n",
      "    '2': {\n",
      "        'mcq': 'Which type of learning uses labeled datasets?',\n",
      "        'options': {\n",
      "            'a': 'Supervised learning',\n",
      "            'b': 'Unsupervised learning',\n",
      "            'c': 'Semi-supervised learning',\n",
      "            'd': 'Reinforcement learning'\n",
      "        },\n",
      "        'correct option': 'a'\n",
      "    },\n",
      "    '3': {\n",
      "        'mcq': 'What is the main difference between deep learning and machine learning?',\n",
      "        'options': {\n",
      "            'a': 'Deep learning requires labeled datasets',\n",
      "            'b': 'Machine learning is a sub-field of deep learning',\n",
      "            'c': 'Deep learning can automatically determine features',\n",
      "            'd': 'Machine learning is more dependent on human intervention'\n",
      "        },\n",
      "        'correct option': 'c'\n",
      "    },\n",
      "    '4': {\n",
      "        'mcq': 'Which algorithm is used for predicting numerical values based on a linear relationship?',\n",
      "        'options': {\n",
      "            'a': 'Neural networks',\n",
      "            'b': 'Logistic regression',\n",
      "            'c': 'Linear regression',\n",
      "            'd': 'Decision trees'\n",
      "        },\n",
      "        'correct option': 'c'\n",
      "    },\n",
      "    '5': {\n",
      "        'mcq': 'What is the main challenge related to implementing machine learning in businesses?',\n",
      "        'options': {\n",
      "            'a': 'Technological singularity',\n",
      "            'b': 'AI impact on jobs',\n",
      "            'c': 'Privacy concerns',\n",
      "            'd': 'Bias and discrimination'\n",
      "        },\n",
      "        'correct option': 'c'\n",
      "    }\n",
      "}\n"
     ]
    }
   ],
   "source": [
    "print(response.get('quiz'))"
   ]
  },
  {
   "cell_type": "code",
   "execution_count": 73,
   "id": "dbc50431",
   "metadata": {},
   "outputs": [],
   "source": [
    "quiz=response.get('quiz')"
   ]
  },
  {
   "cell_type": "code",
   "execution_count": 75,
   "id": "bc8123dc",
   "metadata": {},
   "outputs": [],
   "source": [
    "import ast\n",
    "\n",
    "quiz_dict = ast.literal_eval(quiz)\n"
   ]
  },
  {
   "cell_type": "code",
   "execution_count": 82,
   "id": "35d0b87b",
   "metadata": {},
   "outputs": [],
   "source": [
    "quiz_table_data=[]\n",
    "for key,value in quiz_dict.items():\n",
    "    mcq=value['mcq']\n",
    "    options=\" | \".join(\n",
    "        [\n",
    "            f'{option}:{option_value}'\n",
    "            for option, option_value in value['options'].items()\n",
    "        ]\n",
    "    )\n",
    "    correct=value['correct option']\n",
    "    quiz_table_data.append({'mcq':mcq,\"choice\":options,\"correct\":correct})"
   ]
  },
  {
   "cell_type": "code",
   "execution_count": 83,
   "id": "fe4f19f4",
   "metadata": {},
   "outputs": [
    {
     "data": {
      "text/plain": [
       "[{'mcq': 'What is the main focus of machine learning?',\n",
       "  'choice': 'a:Imitating human learning | b:Performing tasks autonomously | c:Improving performance through data exposure | d:All of the above',\n",
       "  'correct': 'd'},\n",
       " {'mcq': 'Which type of learning uses labeled datasets?',\n",
       "  'choice': 'a:Supervised learning | b:Unsupervised learning | c:Semi-supervised learning | d:Reinforcement learning',\n",
       "  'correct': 'a'},\n",
       " {'mcq': 'What is the main difference between deep learning and machine learning?',\n",
       "  'choice': 'a:Deep learning requires labeled datasets | b:Machine learning is a sub-field of deep learning | c:Deep learning can automatically determine features | d:Machine learning is more dependent on human intervention',\n",
       "  'correct': 'c'},\n",
       " {'mcq': 'Which algorithm is used for predicting numerical values based on a linear relationship?',\n",
       "  'choice': 'a:Neural networks | b:Logistic regression | c:Linear regression | d:Decision trees',\n",
       "  'correct': 'c'},\n",
       " {'mcq': 'What is the main challenge related to implementing machine learning in businesses?',\n",
       "  'choice': 'a:Technological singularity | b:AI impact on jobs | c:Privacy concerns | d:Bias and discrimination',\n",
       "  'correct': 'c'}]"
      ]
     },
     "execution_count": 83,
     "metadata": {},
     "output_type": "execute_result"
    }
   ],
   "source": [
    "quiz_table_data"
   ]
  },
  {
   "cell_type": "code",
   "execution_count": 84,
   "id": "1494e36e",
   "metadata": {},
   "outputs": [],
   "source": [
    "import pandas as pd\n",
    "quiz=pd.DataFrame(quiz_table_data)"
   ]
  },
  {
   "cell_type": "code",
   "execution_count": 85,
   "id": "1702efab",
   "metadata": {},
   "outputs": [
    {
     "data": {
      "text/html": [
       "<div>\n",
       "<style scoped>\n",
       "    .dataframe tbody tr th:only-of-type {\n",
       "        vertical-align: middle;\n",
       "    }\n",
       "\n",
       "    .dataframe tbody tr th {\n",
       "        vertical-align: top;\n",
       "    }\n",
       "\n",
       "    .dataframe thead th {\n",
       "        text-align: right;\n",
       "    }\n",
       "</style>\n",
       "<table border=\"1\" class=\"dataframe\">\n",
       "  <thead>\n",
       "    <tr style=\"text-align: right;\">\n",
       "      <th></th>\n",
       "      <th>mcq</th>\n",
       "      <th>choice</th>\n",
       "      <th>correct</th>\n",
       "    </tr>\n",
       "  </thead>\n",
       "  <tbody>\n",
       "    <tr>\n",
       "      <th>0</th>\n",
       "      <td>What is the main focus of machine learning?</td>\n",
       "      <td>a:Imitating human learning | b:Performing task...</td>\n",
       "      <td>d</td>\n",
       "    </tr>\n",
       "    <tr>\n",
       "      <th>1</th>\n",
       "      <td>Which type of learning uses labeled datasets?</td>\n",
       "      <td>a:Supervised learning | b:Unsupervised learnin...</td>\n",
       "      <td>a</td>\n",
       "    </tr>\n",
       "    <tr>\n",
       "      <th>2</th>\n",
       "      <td>What is the main difference between deep learn...</td>\n",
       "      <td>a:Deep learning requires labeled datasets | b:...</td>\n",
       "      <td>c</td>\n",
       "    </tr>\n",
       "    <tr>\n",
       "      <th>3</th>\n",
       "      <td>Which algorithm is used for predicting numeric...</td>\n",
       "      <td>a:Neural networks | b:Logistic regression | c:...</td>\n",
       "      <td>c</td>\n",
       "    </tr>\n",
       "    <tr>\n",
       "      <th>4</th>\n",
       "      <td>What is the main challenge related to implemen...</td>\n",
       "      <td>a:Technological singularity | b:AI impact on j...</td>\n",
       "      <td>c</td>\n",
       "    </tr>\n",
       "  </tbody>\n",
       "</table>\n",
       "</div>"
      ],
      "text/plain": [
       "                                                 mcq  \\\n",
       "0        What is the main focus of machine learning?   \n",
       "1      Which type of learning uses labeled datasets?   \n",
       "2  What is the main difference between deep learn...   \n",
       "3  Which algorithm is used for predicting numeric...   \n",
       "4  What is the main challenge related to implemen...   \n",
       "\n",
       "                                              choice correct  \n",
       "0  a:Imitating human learning | b:Performing task...       d  \n",
       "1  a:Supervised learning | b:Unsupervised learnin...       a  \n",
       "2  a:Deep learning requires labeled datasets | b:...       c  \n",
       "3  a:Neural networks | b:Logistic regression | c:...       c  \n",
       "4  a:Technological singularity | b:AI impact on j...       c  "
      ]
     },
     "execution_count": 85,
     "metadata": {},
     "output_type": "execute_result"
    }
   ],
   "source": [
    "quiz"
   ]
  },
  {
   "cell_type": "code",
   "execution_count": 86,
   "id": "aab0914a",
   "metadata": {},
   "outputs": [],
   "source": [
    "quiz.to_csv(\"machine learning.csv\",index=False)"
   ]
  }
 ],
 "metadata": {
  "kernelspec": {
   "display_name": "venv",
   "language": "python",
   "name": "python3"
  },
  "language_info": {
   "codemirror_mode": {
    "name": "ipython",
    "version": 3
   },
   "file_extension": ".py",
   "mimetype": "text/x-python",
   "name": "python",
   "nbconvert_exporter": "python",
   "pygments_lexer": "ipython3",
   "version": "3.12.4"
  }
 },
 "nbformat": 4,
 "nbformat_minor": 5
}
